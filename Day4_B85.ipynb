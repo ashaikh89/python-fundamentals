{
 "cells": [
  {
   "cell_type": "code",
   "execution_count": null,
   "id": "d6c82003",
   "metadata": {},
   "outputs": [],
   "source": [
    "Introduction to list data type"
   ]
  },
  {
   "cell_type": "code",
   "execution_count": null,
   "id": "1f23ec4d",
   "metadata": {},
   "outputs": [],
   "source": [
    "Definition : A list is a collection of items in a particular order\n",
    "    \n",
    "Classification : It is classified as a mutable datatype (which cab be edited/ Modified)"
   ]
  },
  {
   "cell_type": "code",
   "execution_count": null,
   "id": "5e992f31",
   "metadata": {},
   "outputs": [],
   "source": [
    "How to define the list data type []"
   ]
  },
  {
   "cell_type": "code",
   "execution_count": 6,
   "id": "a346755f",
   "metadata": {},
   "outputs": [
    {
     "name": "stdout",
     "output_type": "stream",
     "text": [
      "['khadija', 'anitha', 'naveen', 'suresh', 'keerthi', 'david']\n"
     ]
    }
   ],
   "source": [
    "students= ['khadija','anitha','naveen','suresh','keerthi','david']\n",
    "\n",
    "print (students)"
   ]
  },
  {
   "cell_type": "code",
   "execution_count": null,
   "id": "d064dc0a",
   "metadata": {},
   "outputs": [],
   "source": [
    "understanding the concept of indexing : [0,1,2,3,4,5,.....]"
   ]
  },
  {
   "cell_type": "code",
   "execution_count": null,
   "id": "6954c0a0",
   "metadata": {},
   "outputs": [],
   "source": [
    "Req:- i want to access lets say anitha name from the above?"
   ]
  },
  {
   "cell_type": "code",
   "execution_count": 8,
   "id": "96e2ca3d",
   "metadata": {},
   "outputs": [
    {
     "name": "stdout",
     "output_type": "stream",
     "text": [
      "anitha\n"
     ]
    }
   ],
   "source": [
    "print(students[1])"
   ]
  },
  {
   "cell_type": "code",
   "execution_count": null,
   "id": "36ddc212",
   "metadata": {},
   "outputs": [],
   "source": [
    "Req:- i want to access lets say suresh name from the above?"
   ]
  },
  {
   "cell_type": "code",
   "execution_count": 9,
   "id": "22b76883",
   "metadata": {},
   "outputs": [
    {
     "name": "stdout",
     "output_type": "stream",
     "text": [
      "suresh\n"
     ]
    }
   ],
   "source": [
    "print(students[3])"
   ]
  },
  {
   "cell_type": "code",
   "execution_count": null,
   "id": "d92bbc97",
   "metadata": {},
   "outputs": [],
   "source": [
    "Important Interview Question\n",
    "\n",
    "1. how to add new elements in the list\n",
    "2. how to modify the elements in the list\n",
    "3. how to delete the elements in the list"
   ]
  },
  {
   "cell_type": "code",
   "execution_count": null,
   "id": "7ce46f8f",
   "metadata": {},
   "outputs": [],
   "source": [
    "Req:- i want to add satish name in the list"
   ]
  },
  {
   "cell_type": "code",
   "execution_count": 10,
   "id": "c45d70c3",
   "metadata": {},
   "outputs": [
    {
     "name": "stdout",
     "output_type": "stream",
     "text": [
      "['khadija', 'anitha', 'naveen', 'suresh', 'keerthi', 'david', 'satish']\n"
     ]
    }
   ],
   "source": [
    "students.append('satish')\n",
    "print(students)"
   ]
  },
  {
   "cell_type": "code",
   "execution_count": 11,
   "id": "6e1ee931",
   "metadata": {},
   "outputs": [
    {
     "name": "stdout",
     "output_type": "stream",
     "text": [
      "['khadija', 'anitha', 'naveen', 'suresh', 'keerthi', 'david', 'satish', 'ravi']\n"
     ]
    }
   ],
   "source": [
    "students.append('ravi')\n",
    "print(students)"
   ]
  },
  {
   "cell_type": "code",
   "execution_count": null,
   "id": "3b2e4d41",
   "metadata": {},
   "outputs": [],
   "source": [
    "Req:- I want to add tanvir at 2nd index position"
   ]
  },
  {
   "cell_type": "code",
   "execution_count": 13,
   "id": "e4cca392",
   "metadata": {},
   "outputs": [
    {
     "name": "stdout",
     "output_type": "stream",
     "text": [
      "['khadija', 'anitha', 'tanvir', 'naveen', 'suresh', 'keerthi', 'david', 'satish', 'ravi']\n"
     ]
    }
   ],
   "source": [
    "students.insert(2,'tanvir')\n",
    "print(students)"
   ]
  },
  {
   "cell_type": "code",
   "execution_count": null,
   "id": "58270822",
   "metadata": {},
   "outputs": [],
   "source": [
    "Imporant Interview Question\n",
    "\n",
    "what is the difference between append and insert methods in a list data type?"
   ]
  },
  {
   "cell_type": "code",
   "execution_count": 14,
   "id": "6bbd7a35",
   "metadata": {},
   "outputs": [
    {
     "name": "stdout",
     "output_type": "stream",
     "text": [
      "['khadija', 'anitha', 'tanvir', 'naveen', 'suresh', 'keerthi', 'david', 'satish', 'ravi']\n"
     ]
    }
   ],
   "source": [
    "print(students)"
   ]
  },
  {
   "cell_type": "code",
   "execution_count": null,
   "id": "dfd10c43",
   "metadata": {},
   "outputs": [],
   "source": [
    "Req:- i want to modify khadija name to Rubina"
   ]
  },
  {
   "cell_type": "code",
   "execution_count": 15,
   "id": "2396106f",
   "metadata": {},
   "outputs": [
    {
     "name": "stdout",
     "output_type": "stream",
     "text": [
      "['Rubina', 'anitha', 'tanvir', 'naveen', 'suresh', 'keerthi', 'david', 'satish', 'ravi']\n"
     ]
    }
   ],
   "source": [
    "students[0]= 'Rubina'\n",
    "print(students)"
   ]
  },
  {
   "cell_type": "code",
   "execution_count": 16,
   "id": "82f52dbc",
   "metadata": {},
   "outputs": [
    {
     "name": "stdout",
     "output_type": "stream",
     "text": [
      "Rubina\n"
     ]
    }
   ],
   "source": [
    "print(students[0])"
   ]
  },
  {
   "cell_type": "code",
   "execution_count": 17,
   "id": "c176841c",
   "metadata": {},
   "outputs": [
    {
     "name": "stdout",
     "output_type": "stream",
     "text": [
      "['Rubina', 'anitha', 'tanvir', 'naveen', 'suresh', 'keerthi', 'david', 'satish', 'ravi']\n"
     ]
    }
   ],
   "source": [
    "print(students)"
   ]
  },
  {
   "cell_type": "code",
   "execution_count": null,
   "id": "6df5d394",
   "metadata": {},
   "outputs": [],
   "source": [
    "Req- I want to delete anitha name from the above list"
   ]
  },
  {
   "cell_type": "code",
   "execution_count": 19,
   "id": "65b55368",
   "metadata": {},
   "outputs": [
    {
     "name": "stdout",
     "output_type": "stream",
     "text": [
      "['Rubina', 'tanvir', 'naveen', 'suresh', 'keerthi', 'david', 'satish', 'ravi']\n"
     ]
    }
   ],
   "source": [
    "del students[1]\n",
    "\n",
    "print(students)"
   ]
  },
  {
   "cell_type": "code",
   "execution_count": null,
   "id": "1e51b819",
   "metadata": {},
   "outputs": [],
   "source": []
  }
 ],
 "metadata": {
  "kernelspec": {
   "display_name": "Python 3 (ipykernel)",
   "language": "python",
   "name": "python3"
  },
  "language_info": {
   "codemirror_mode": {
    "name": "ipython",
    "version": 3
   },
   "file_extension": ".py",
   "mimetype": "text/x-python",
   "name": "python",
   "nbconvert_exporter": "python",
   "pygments_lexer": "ipython3",
   "version": "3.11.5"
  }
 },
 "nbformat": 4,
 "nbformat_minor": 5
}
