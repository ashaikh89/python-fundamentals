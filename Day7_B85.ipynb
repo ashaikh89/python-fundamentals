{
 "cells": [
  {
   "cell_type": "code",
   "execution_count": null,
   "id": "67dc142d",
   "metadata": {},
   "outputs": [],
   "source": [
    "Introduction to tuple data type"
   ]
  },
  {
   "cell_type": "code",
   "execution_count": null,
   "id": "c4e5d62d",
   "metadata": {},
   "outputs": [],
   "source": [
    "Defination:- An immutable list is called as an tuple"
   ]
  },
  {
   "cell_type": "code",
   "execution_count": null,
   "id": "09860a70",
   "metadata": {},
   "outputs": [],
   "source": [
    "Classification:- It is classified as an immutable data type (Fixed data type-- we will not be able to modify it)"
   ]
  },
  {
   "cell_type": "code",
   "execution_count": null,
   "id": "fe2511fb",
   "metadata": {},
   "outputs": [],
   "source": [
    "How to define the tuple data type ----()"
   ]
  },
  {
   "cell_type": "code",
   "execution_count": 5,
   "id": "393ed0a2",
   "metadata": {},
   "outputs": [
    {
     "name": "stdout",
     "output_type": "stream",
     "text": [
      "('sarika', 'keerthi', 'naveed', 'joseph')\n"
     ]
    }
   ],
   "source": [
    "students = ('sarika','keerthi','naveed','joseph')\n",
    "\n",
    "print(students)"
   ]
  },
  {
   "cell_type": "code",
   "execution_count": 6,
   "id": "6855f40d",
   "metadata": {},
   "outputs": [
    {
     "data": {
      "text/plain": [
       "tuple"
      ]
     },
     "execution_count": 6,
     "metadata": {},
     "output_type": "execute_result"
    }
   ],
   "source": [
    "type(students)"
   ]
  },
  {
   "cell_type": "code",
   "execution_count": 7,
   "id": "059550ee",
   "metadata": {},
   "outputs": [
    {
     "name": "stdout",
     "output_type": "stream",
     "text": [
      "sarika\n"
     ]
    }
   ],
   "source": [
    "print(students[0])"
   ]
  },
  {
   "cell_type": "code",
   "execution_count": null,
   "id": "d209d1f2",
   "metadata": {},
   "outputs": [],
   "source": [
    "Requirement:- I want to change sarika name to sangeetha"
   ]
  },
  {
   "cell_type": "code",
   "execution_count": 10,
   "id": "3bde5c13",
   "metadata": {},
   "outputs": [
    {
     "ename": "TypeError",
     "evalue": "'tuple' object does not support item assignment",
     "output_type": "error",
     "traceback": [
      "\u001b[1;31m---------------------------------------------------------------------------\u001b[0m",
      "\u001b[1;31mTypeError\u001b[0m                                 Traceback (most recent call last)",
      "Cell \u001b[1;32mIn[10], line 1\u001b[0m\n\u001b[1;32m----> 1\u001b[0m students[\u001b[38;5;241m0\u001b[39m]\u001b[38;5;241m=\u001b[39m\u001b[38;5;124m'\u001b[39m\u001b[38;5;124msangeetha\u001b[39m\u001b[38;5;124m'\u001b[39m\n",
      "\u001b[1;31mTypeError\u001b[0m: 'tuple' object does not support item assignment"
     ]
    }
   ],
   "source": [
    "students[0]='sangeetha'"
   ]
  },
  {
   "cell_type": "code",
   "execution_count": 12,
   "id": "4c81c7d5",
   "metadata": {},
   "outputs": [
    {
     "name": "stdout",
     "output_type": "stream",
     "text": [
      "(200, 50)\n"
     ]
    }
   ],
   "source": [
    "dimensions =(200,50)\n",
    "\n",
    "print(dimensions)"
   ]
  },
  {
   "cell_type": "code",
   "execution_count": 13,
   "id": "28ac6337",
   "metadata": {},
   "outputs": [
    {
     "data": {
      "text/plain": [
       "tuple"
      ]
     },
     "execution_count": 13,
     "metadata": {},
     "output_type": "execute_result"
    }
   ],
   "source": [
    "type(dimensions)"
   ]
  },
  {
   "cell_type": "code",
   "execution_count": 14,
   "id": "39310951",
   "metadata": {},
   "outputs": [
    {
     "ename": "TypeError",
     "evalue": "'tuple' object does not support item assignment",
     "output_type": "error",
     "traceback": [
      "\u001b[1;31m---------------------------------------------------------------------------\u001b[0m",
      "\u001b[1;31mTypeError\u001b[0m                                 Traceback (most recent call last)",
      "Cell \u001b[1;32mIn[14], line 1\u001b[0m\n\u001b[1;32m----> 1\u001b[0m dimensions[\u001b[38;5;241m0\u001b[39m]\u001b[38;5;241m=\u001b[39m\u001b[38;5;241m250\u001b[39m\n",
      "\u001b[1;31mTypeError\u001b[0m: 'tuple' object does not support item assignment"
     ]
    }
   ],
   "source": [
    "dimensions[0]=250"
   ]
  },
  {
   "cell_type": "code",
   "execution_count": 15,
   "id": "1da92eca",
   "metadata": {},
   "outputs": [
    {
     "name": "stdout",
     "output_type": "stream",
     "text": [
      "('sarika', 'keerthi', 'naveed', 'joseph')\n"
     ]
    }
   ],
   "source": [
    "print(students)"
   ]
  },
  {
   "cell_type": "code",
   "execution_count": 16,
   "id": "aa1092ff",
   "metadata": {},
   "outputs": [
    {
     "name": "stdout",
     "output_type": "stream",
     "text": [
      "naveed\n"
     ]
    }
   ],
   "source": [
    "print(students[2])"
   ]
  },
  {
   "cell_type": "code",
   "execution_count": 23,
   "id": "f09d1be2",
   "metadata": {},
   "outputs": [
    {
     "name": "stdout",
     "output_type": "stream",
     "text": [
      "Naveed\n"
     ]
    }
   ],
   "source": [
    "print(students[2].title())"
   ]
  },
  {
   "cell_type": "code",
   "execution_count": 24,
   "id": "a04edc40",
   "metadata": {},
   "outputs": [
    {
     "name": "stdout",
     "output_type": "stream",
     "text": [
      "sarika\n",
      "keerthi\n",
      "naveed\n",
      "joseph\n"
     ]
    }
   ],
   "source": [
    "for a in students:\n",
    "    print(a)"
   ]
  },
  {
   "cell_type": "code",
   "execution_count": null,
   "id": "0828c692",
   "metadata": {},
   "outputs": [],
   "source": [
    "Introduction to dictionaries**(imp interview Question)"
   ]
  },
  {
   "cell_type": "code",
   "execution_count": null,
   "id": "e930a994",
   "metadata": {},
   "outputs": [],
   "source": [
    "Definition:- A dict is a combination of key value pairs"
   ]
  },
  {
   "cell_type": "code",
   "execution_count": null,
   "id": "acaccdee",
   "metadata": {},
   "outputs": [],
   "source": [
    "classification:- It is classified as a mutable data type (we can edit/alter)"
   ]
  },
  {
   "cell_type": "code",
   "execution_count": 25,
   "id": "40b7b561",
   "metadata": {},
   "outputs": [
    {
     "name": "stdout",
     "output_type": "stream",
     "text": [
      "{'colour': 'green', 'points': 5}\n"
     ]
    }
   ],
   "source": [
    "alien={'colour':'green','points':5}\n",
    "\n",
    "print(alien)"
   ]
  },
  {
   "cell_type": "code",
   "execution_count": 26,
   "id": "f784a0ea",
   "metadata": {},
   "outputs": [
    {
     "data": {
      "text/plain": [
       "dict"
      ]
     },
     "execution_count": 26,
     "metadata": {},
     "output_type": "execute_result"
    }
   ],
   "source": [
    "type(alien)"
   ]
  },
  {
   "cell_type": "code",
   "execution_count": null,
   "id": "fab208d6",
   "metadata": {},
   "outputs": [],
   "source": [
    "# create a facebook account"
   ]
  },
  {
   "cell_type": "code",
   "execution_count": 27,
   "id": "8e003c88",
   "metadata": {},
   "outputs": [
    {
     "name": "stdout",
     "output_type": "stream",
     "text": [
      "{'firstname': 'code', 'lastname': 'training', 'dob': '01-01-2000', 'password': '54321'}\n"
     ]
    }
   ],
   "source": [
    "username= {'firstname':'code','lastname':'training','dob':'01-01-2000','password':'54321'}\n",
    "\n",
    "print(username)"
   ]
  },
  {
   "cell_type": "code",
   "execution_count": 28,
   "id": "fec2e19c",
   "metadata": {},
   "outputs": [
    {
     "data": {
      "text/plain": [
       "dict"
      ]
     },
     "execution_count": 28,
     "metadata": {},
     "output_type": "execute_result"
    }
   ],
   "source": [
    "type(username)"
   ]
  },
  {
   "cell_type": "code",
   "execution_count": null,
   "id": "0cf64855",
   "metadata": {},
   "outputs": [],
   "source": [
    "# Adding new key value pairs to the dictionary"
   ]
  },
  {
   "cell_type": "code",
   "execution_count": null,
   "id": "09ecc198",
   "metadata": {},
   "outputs": [],
   "source": [
    "'location':'autumn leaf'"
   ]
  },
  {
   "cell_type": "code",
   "execution_count": 34,
   "id": "876ae745",
   "metadata": {},
   "outputs": [
    {
     "name": "stdout",
     "output_type": "stream",
     "text": [
      "{'firstname': 'code', 'lastname': 'training', 'dob': '01-01-2000', 'password': '54321', 'location': 'autumn leaf'}\n"
     ]
    }
   ],
   "source": [
    "username['location'] ='autumn leaf'\n",
    "\n",
    "print(username)"
   ]
  },
  {
   "cell_type": "code",
   "execution_count": null,
   "id": "f31a9935",
   "metadata": {},
   "outputs": [],
   "source": [
    "Requirement : How to access key value"
   ]
  },
  {
   "cell_type": "code",
   "execution_count": 35,
   "id": "748a3620",
   "metadata": {},
   "outputs": [
    {
     "name": "stdout",
     "output_type": "stream",
     "text": [
      "training\n"
     ]
    }
   ],
   "source": [
    "print(username['lastname'])"
   ]
  },
  {
   "cell_type": "code",
   "execution_count": 37,
   "id": "36020b3e",
   "metadata": {},
   "outputs": [
    {
     "ename": "KeyError",
     "evalue": "'code'",
     "output_type": "error",
     "traceback": [
      "\u001b[1;31m---------------------------------------------------------------------------\u001b[0m",
      "\u001b[1;31mKeyError\u001b[0m                                  Traceback (most recent call last)",
      "Cell \u001b[1;32mIn[37], line 1\u001b[0m\n\u001b[1;32m----> 1\u001b[0m \u001b[38;5;28mprint\u001b[39m(username[\u001b[38;5;124m'\u001b[39m\u001b[38;5;124mcode\u001b[39m\u001b[38;5;124m'\u001b[39m])\n",
      "\u001b[1;31mKeyError\u001b[0m: 'code'"
     ]
    }
   ],
   "source": [
    "print(username['code'])"
   ]
  },
  {
   "cell_type": "code",
   "execution_count": null,
   "id": "82e44b98",
   "metadata": {},
   "outputs": [],
   "source": []
  },
  {
   "cell_type": "code",
   "execution_count": null,
   "id": "6d35b4c2",
   "metadata": {},
   "outputs": [],
   "source": []
  },
  {
   "cell_type": "code",
   "execution_count": null,
   "id": "28a22935",
   "metadata": {},
   "outputs": [],
   "source": []
  }
 ],
 "metadata": {
  "kernelspec": {
   "display_name": "Python 3 (ipykernel)",
   "language": "python",
   "name": "python3"
  },
  "language_info": {
   "codemirror_mode": {
    "name": "ipython",
    "version": 3
   },
   "file_extension": ".py",
   "mimetype": "text/x-python",
   "name": "python",
   "nbconvert_exporter": "python",
   "pygments_lexer": "ipython3",
   "version": "3.11.5"
  }
 },
 "nbformat": 4,
 "nbformat_minor": 5
}
