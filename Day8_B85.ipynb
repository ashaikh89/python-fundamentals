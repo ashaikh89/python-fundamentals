{
 "cells": [
  {
   "cell_type": "code",
   "execution_count": null,
   "id": "7c78a62a",
   "metadata": {},
   "outputs": [],
   "source": [
    "Introduction to dictionaries** ---(imp interview Question)"
   ]
  },
  {
   "cell_type": "code",
   "execution_count": null,
   "id": "0f3829eb",
   "metadata": {},
   "outputs": [],
   "source": [
    "Defination:- A dict is a combination of key value pairs\n",
    "    \n",
    "Classification:- It is classified as an mutable data type."
   ]
  },
  {
   "cell_type": "code",
   "execution_count": null,
   "id": "7731ca33",
   "metadata": {},
   "outputs": [],
   "source": [
    "# how to define the dictionaries ?  {}"
   ]
  },
  {
   "cell_type": "code",
   "execution_count": 1,
   "id": "ea5f5b64",
   "metadata": {},
   "outputs": [
    {
     "name": "stdout",
     "output_type": "stream",
     "text": [
      "{'colour': 'green', 'points': 5}\n"
     ]
    }
   ],
   "source": [
    "alien= {'colour':'green','points':5}   #key value\n",
    "\n",
    "print(alien)"
   ]
  },
  {
   "cell_type": "code",
   "execution_count": 2,
   "id": "e957295e",
   "metadata": {},
   "outputs": [
    {
     "data": {
      "text/plain": [
       "dict"
      ]
     },
     "execution_count": 2,
     "metadata": {},
     "output_type": "execute_result"
    }
   ],
   "source": [
    "type(alien)"
   ]
  },
  {
   "cell_type": "code",
   "execution_count": null,
   "id": "3e800ffc",
   "metadata": {},
   "outputs": [],
   "source": [
    "# how to add new key value pairs to the dictionary"
   ]
  },
  {
   "cell_type": "code",
   "execution_count": null,
   "id": "d1f0926a",
   "metadata": {},
   "outputs": [],
   "source": [
    "# Requirement:- I want to add the start_value at 0"
   ]
  },
  {
   "cell_type": "code",
   "execution_count": 8,
   "id": "ccafe1b7",
   "metadata": {},
   "outputs": [
    {
     "name": "stdout",
     "output_type": "stream",
     "text": [
      "{'colour': 'green', 'points': 5, 'start_value': 0}\n"
     ]
    }
   ],
   "source": [
    "alien['start_value']=0\n",
    "\n",
    "print(alien)"
   ]
  },
  {
   "cell_type": "code",
   "execution_count": null,
   "id": "fa7fe081",
   "metadata": {},
   "outputs": [],
   "source": [
    "# how to modify the value"
   ]
  },
  {
   "cell_type": "code",
   "execution_count": null,
   "id": "cdfb8922",
   "metadata": {},
   "outputs": [],
   "source": [
    "# Requirement:- Change the colour to yellow"
   ]
  },
  {
   "cell_type": "code",
   "execution_count": 10,
   "id": "7c5d7477",
   "metadata": {},
   "outputs": [
    {
     "name": "stdout",
     "output_type": "stream",
     "text": [
      "{'colour': 'yellow', 'points': 5, 'start_value': 0}\n"
     ]
    }
   ],
   "source": [
    "alien['colour']='yellow'\n",
    "\n",
    "print(alien)"
   ]
  },
  {
   "cell_type": "code",
   "execution_count": null,
   "id": "dd7d5ba5",
   "metadata": {},
   "outputs": [],
   "source": [
    "# how to delete the key value pairs"
   ]
  },
  {
   "cell_type": "code",
   "execution_count": null,
   "id": "a0df7543",
   "metadata": {},
   "outputs": [],
   "source": [
    "# Requirement :- I want to delete points"
   ]
  },
  {
   "cell_type": "code",
   "execution_count": 14,
   "id": "eea87801",
   "metadata": {},
   "outputs": [
    {
     "name": "stdout",
     "output_type": "stream",
     "text": [
      "{'colour': 'yellow', 'start_value': 0}\n"
     ]
    }
   ],
   "source": [
    "del alien ['points']\n",
    "\n",
    "print(alien)"
   ]
  },
  {
   "cell_type": "code",
   "execution_count": 15,
   "id": "b872b87a",
   "metadata": {},
   "outputs": [
    {
     "name": "stdout",
     "output_type": "stream",
     "text": [
      "{'user_name': 'code_training_academy', 'first_name': 'code', 'last_name': 'training', 'password': '54321'}\n"
     ]
    }
   ],
   "source": [
    "user_account = {'user_name':'code_training_academy', 'first_name':'code','last_name':'training','password':'54321'}\n",
    "\n",
    "print(user_account)"
   ]
  },
  {
   "cell_type": "code",
   "execution_count": null,
   "id": "308ddff5",
   "metadata": {},
   "outputs": [],
   "source": [
    "\n",
    "# For loop: -- General syntax\n",
    "\n",
    "for tempvar in mainvar:\n",
    "    \n",
    "    print(tempvar)"
   ]
  },
  {
   "cell_type": "code",
   "execution_count": null,
   "id": "ab9ef0fc",
   "metadata": {},
   "outputs": [],
   "source": [
    "# for dictionary"
   ]
  },
  {
   "cell_type": "code",
   "execution_count": null,
   "id": "f1b58300",
   "metadata": {},
   "outputs": [],
   "source": [
    "for k,v in mainvar.items()\n",
    "\n",
    "print(k,v)"
   ]
  },
  {
   "cell_type": "code",
   "execution_count": 19,
   "id": "ab79879a",
   "metadata": {},
   "outputs": [
    {
     "name": "stdout",
     "output_type": "stream",
     "text": [
      "user_name\n",
      "code_training_academy\n",
      "first_name\n",
      "code\n",
      "last_name\n",
      "training\n",
      "password\n",
      "54321\n"
     ]
    }
   ],
   "source": [
    "for a,b in user_account.items():\n",
    "    print(a)\n",
    "    print(b)"
   ]
  },
  {
   "cell_type": "code",
   "execution_count": null,
   "id": "c0d720b5",
   "metadata": {},
   "outputs": [],
   "source": [
    "# enhancement of the code"
   ]
  },
  {
   "cell_type": "code",
   "execution_count": 21,
   "id": "dbe69e2b",
   "metadata": {},
   "outputs": [
    {
     "name": "stdout",
     "output_type": "stream",
     "text": [
      "key:user_name\n",
      "values:code_training_academy\n",
      "\n",
      "key:first_name\n",
      "values:code\n",
      "\n",
      "key:last_name\n",
      "values:training\n",
      "\n",
      "key:password\n",
      "values:54321\n",
      "\n"
     ]
    }
   ],
   "source": [
    "for a,b in user_account.items():\n",
    "    print(f\"key:{a}\")\n",
    "    print(f\"values:{b}\\n\")"
   ]
  },
  {
   "cell_type": "code",
   "execution_count": null,
   "id": "9db233e6",
   "metadata": {},
   "outputs": [],
   "source": [
    "# If we want only the keys"
   ]
  },
  {
   "cell_type": "code",
   "execution_count": 22,
   "id": "6c925be4",
   "metadata": {},
   "outputs": [
    {
     "name": "stdout",
     "output_type": "stream",
     "text": [
      "key:user_name\n",
      "key:first_name\n",
      "key:last_name\n",
      "key:password\n"
     ]
    }
   ],
   "source": [
    "for a in user_account.keys():\n",
    "    print(f\"key:{a}\")"
   ]
  },
  {
   "cell_type": "code",
   "execution_count": null,
   "id": "09d51c56",
   "metadata": {},
   "outputs": [],
   "source": [
    "# if we want to get the value only?"
   ]
  },
  {
   "cell_type": "code",
   "execution_count": 30,
   "id": "baf040bb",
   "metadata": {},
   "outputs": [
    {
     "name": "stdout",
     "output_type": "stream",
     "text": [
      "value:code_training_academy\n",
      "value:code\n",
      "value:training\n",
      "value:54321\n"
     ]
    }
   ],
   "source": [
    "for b in user_account.values():\n",
    "    print(f\"value:{b}\")"
   ]
  },
  {
   "cell_type": "code",
   "execution_count": null,
   "id": "2ff32151",
   "metadata": {},
   "outputs": [],
   "source": []
  },
  {
   "cell_type": "code",
   "execution_count": null,
   "id": "e2c39077",
   "metadata": {},
   "outputs": [],
   "source": []
  },
  {
   "cell_type": "code",
   "execution_count": null,
   "id": "436257f8",
   "metadata": {},
   "outputs": [],
   "source": []
  },
  {
   "cell_type": "code",
   "execution_count": null,
   "id": "343a41ee",
   "metadata": {},
   "outputs": [],
   "source": []
  },
  {
   "cell_type": "code",
   "execution_count": null,
   "id": "5172914e",
   "metadata": {},
   "outputs": [],
   "source": []
  }
 ],
 "metadata": {
  "kernelspec": {
   "display_name": "Python 3 (ipykernel)",
   "language": "python",
   "name": "python3"
  },
  "language_info": {
   "codemirror_mode": {
    "name": "ipython",
    "version": 3
   },
   "file_extension": ".py",
   "mimetype": "text/x-python",
   "name": "python",
   "nbconvert_exporter": "python",
   "pygments_lexer": "ipython3",
   "version": "3.11.5"
  }
 },
 "nbformat": 4,
 "nbformat_minor": 5
}
