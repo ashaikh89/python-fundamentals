{
 "cells": [
  {
   "cell_type": "code",
   "execution_count": null,
   "id": "91bd030f",
   "metadata": {},
   "outputs": [],
   "source": [
    "continuation with the list data type"
   ]
  },
  {
   "cell_type": "code",
   "execution_count": null,
   "id": "9f2fd363",
   "metadata": {},
   "outputs": [],
   "source": [
    "organising list data type"
   ]
  },
  {
   "cell_type": "code",
   "execution_count": 1,
   "id": "291a1342",
   "metadata": {},
   "outputs": [
    {
     "name": "stdout",
     "output_type": "stream",
     "text": [
      "['suzuki', 'maruthi', 'hyundai', 'benz', 'kia', 'audi', 'tata', 'bmw']\n"
     ]
    }
   ],
   "source": [
    "cars = ['suzuki', 'maruthi', 'hyundai', 'benz','kia','audi','tata','bmw']\n",
    "\n",
    "print(cars)"
   ]
  },
  {
   "cell_type": "code",
   "execution_count": null,
   "id": "c7d54784",
   "metadata": {},
   "outputs": [],
   "source": [
    "Req:- I want to organize the above list in a alphatical order wise A-z"
   ]
  },
  {
   "cell_type": "code",
   "execution_count": null,
   "id": "37934ca4",
   "metadata": {},
   "outputs": [],
   "source": [
    "Approaches: \n",
    "    1. Temp approach- We will be able to get the original defined list order ---Sorted\n",
    "    2. permanent approcah- changes will be applied permanently ---sort"
   ]
  },
  {
   "cell_type": "code",
   "execution_count": 9,
   "id": "79e6f481",
   "metadata": {},
   "outputs": [
    {
     "name": "stdout",
     "output_type": "stream",
     "text": [
      "['audi', 'benz', 'bmw', 'hyundai', 'kia', 'maruthi', 'suzuki', 'tata']\n"
     ]
    }
   ],
   "source": [
    "print(sorted(cars))"
   ]
  },
  {
   "cell_type": "code",
   "execution_count": 12,
   "id": "e8fcbf9e",
   "metadata": {},
   "outputs": [],
   "source": [
    "cars.sort()"
   ]
  },
  {
   "cell_type": "code",
   "execution_count": 13,
   "id": "75d1b188",
   "metadata": {},
   "outputs": [
    {
     "name": "stdout",
     "output_type": "stream",
     "text": [
      "['audi', 'benz', 'bmw', 'hyundai', 'kia', 'maruthi', 'suzuki', 'tata']\n"
     ]
    }
   ],
   "source": [
    "print(cars)"
   ]
  },
  {
   "cell_type": "code",
   "execution_count": null,
   "id": "4ca15c78",
   "metadata": {},
   "outputs": [],
   "source": [
    "IMP interview Question\n",
    "\n",
    "what is the difference between sorted and sort methods in a list data type?"
   ]
  },
  {
   "cell_type": "code",
   "execution_count": null,
   "id": "402e5ec2",
   "metadata": {},
   "outputs": [],
   "source": [
    "Req:- I want to no of elements in the list datatype?"
   ]
  },
  {
   "cell_type": "code",
   "execution_count": 14,
   "id": "88d7d11e",
   "metadata": {},
   "outputs": [
    {
     "data": {
      "text/plain": [
       "8"
      ]
     },
     "execution_count": 14,
     "metadata": {},
     "output_type": "execute_result"
    }
   ],
   "source": [
    "len(cars)"
   ]
  },
  {
   "cell_type": "code",
   "execution_count": null,
   "id": "ccd8e3af",
   "metadata": {},
   "outputs": [],
   "source": [
    "Req:- I want to reverse the list that has been defined A-z Orders  ------Z-A?"
   ]
  },
  {
   "cell_type": "code",
   "execution_count": 15,
   "id": "9f0fe51d",
   "metadata": {},
   "outputs": [
    {
     "name": "stdout",
     "output_type": "stream",
     "text": [
      "['audi', 'benz', 'bmw', 'hyundai', 'kia', 'maruthi', 'suzuki', 'tata']\n"
     ]
    }
   ],
   "source": [
    "print(cars)"
   ]
  },
  {
   "cell_type": "code",
   "execution_count": 16,
   "id": "50c84af1",
   "metadata": {},
   "outputs": [],
   "source": [
    "cars.reverse()"
   ]
  },
  {
   "cell_type": "code",
   "execution_count": 17,
   "id": "4f21987f",
   "metadata": {},
   "outputs": [
    {
     "name": "stdout",
     "output_type": "stream",
     "text": [
      "['tata', 'suzuki', 'maruthi', 'kia', 'hyundai', 'bmw', 'benz', 'audi']\n"
     ]
    }
   ],
   "source": [
    "print(cars)"
   ]
  },
  {
   "cell_type": "code",
   "execution_count": null,
   "id": "4d0af94d",
   "metadata": {},
   "outputs": [],
   "source": [
    "Introduction to slicing method:-"
   ]
  },
  {
   "cell_type": "code",
   "execution_count": 18,
   "id": "185fc5c1",
   "metadata": {},
   "outputs": [
    {
     "name": "stdout",
     "output_type": "stream",
     "text": [
      "['parvez', 'naveen', 'khadija', 'roja', 'kartik', 'joseph']\n"
     ]
    }
   ],
   "source": [
    "students =['parvez','naveen','khadija','roja','kartik','joseph']\n",
    "\n",
    "print(students)"
   ]
  },
  {
   "cell_type": "code",
   "execution_count": null,
   "id": "386b1132",
   "metadata": {},
   "outputs": [],
   "source": [
    "# General syntax of slicing"
   ]
  },
  {
   "cell_type": "code",
   "execution_count": null,
   "id": "b475b7d8",
   "metadata": {},
   "outputs": [],
   "source": [
    "[start_value:stop_value:step_count]"
   ]
  },
  {
   "cell_type": "code",
   "execution_count": null,
   "id": "7960545a",
   "metadata": {},
   "outputs": [],
   "source": [
    "Note:- last value is always exclusive to include it we have to increment the index by +1"
   ]
  },
  {
   "cell_type": "code",
   "execution_count": null,
   "id": "6e1cb475",
   "metadata": {},
   "outputs": [],
   "source": [
    "Req:- I want to get parvez and naveen in a slice"
   ]
  },
  {
   "cell_type": "code",
   "execution_count": 20,
   "id": "1087fc0a",
   "metadata": {},
   "outputs": [
    {
     "name": "stdout",
     "output_type": "stream",
     "text": [
      "['parvez', 'naveen']\n"
     ]
    }
   ],
   "source": [
    "print(students[0:2])"
   ]
  },
  {
   "cell_type": "code",
   "execution_count": null,
   "id": "bca890d0",
   "metadata": {},
   "outputs": [],
   "source": [
    "Req:- I want to have khadija and roja in the slice"
   ]
  },
  {
   "cell_type": "code",
   "execution_count": 21,
   "id": "75084f48",
   "metadata": {},
   "outputs": [
    {
     "name": "stdout",
     "output_type": "stream",
     "text": [
      "['khadija', 'roja']\n"
     ]
    }
   ],
   "source": [
    "print(students[2:4])"
   ]
  },
  {
   "cell_type": "code",
   "execution_count": null,
   "id": "d4a8cec6",
   "metadata": {},
   "outputs": [],
   "source": [
    "Req:- I want to get kartik and joseph "
   ]
  },
  {
   "cell_type": "code",
   "execution_count": 22,
   "id": "deb77b53",
   "metadata": {},
   "outputs": [
    {
     "name": "stdout",
     "output_type": "stream",
     "text": [
      "['kartik', 'joseph']\n"
     ]
    }
   ],
   "source": [
    "print(students[4:6])"
   ]
  },
  {
   "cell_type": "code",
   "execution_count": null,
   "id": "f57bd5c2",
   "metadata": {},
   "outputs": [],
   "source": [
    "# is commenting the code"
   ]
  },
  {
   "cell_type": "code",
   "execution_count": null,
   "id": "1beb6c54",
   "metadata": {},
   "outputs": [],
   "source": [
    "students =['parvez','naveen','khadija','roja','kartik','joseph']"
   ]
  },
  {
   "cell_type": "code",
   "execution_count": 23,
   "id": "98decd1e",
   "metadata": {},
   "outputs": [
    {
     "name": "stdout",
     "output_type": "stream",
     "text": [
      "['parvez', 'khadija', 'kartik']\n"
     ]
    }
   ],
   "source": [
    "print(students[0:6:2])"
   ]
  },
  {
   "cell_type": "code",
   "execution_count": null,
   "id": "48733c3d",
   "metadata": {},
   "outputs": [],
   "source": []
  },
  {
   "cell_type": "code",
   "execution_count": null,
   "id": "ba09032b",
   "metadata": {},
   "outputs": [],
   "source": []
  }
 ],
 "metadata": {
  "kernelspec": {
   "display_name": "Python 3 (ipykernel)",
   "language": "python",
   "name": "python3"
  },
  "language_info": {
   "codemirror_mode": {
    "name": "ipython",
    "version": 3
   },
   "file_extension": ".py",
   "mimetype": "text/x-python",
   "name": "python",
   "nbconvert_exporter": "python",
   "pygments_lexer": "ipython3",
   "version": "3.11.5"
  }
 },
 "nbformat": 4,
 "nbformat_minor": 5
}
