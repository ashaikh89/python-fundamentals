{
 "cells": [
  {
   "cell_type": "code",
   "execution_count": 1,
   "id": "340c0473",
   "metadata": {},
   "outputs": [
    {
     "name": "stdout",
     "output_type": "stream",
     "text": [
      "my new laptop\n"
     ]
    }
   ],
   "source": [
    "print (\"my new laptop\")"
   ]
  },
  {
   "cell_type": "code",
   "execution_count": 2,
   "id": "a11dd28c",
   "metadata": {},
   "outputs": [
    {
     "name": "stdout",
     "output_type": "stream",
     "text": [
      "9\n"
     ]
    }
   ],
   "source": [
    "x= 4\n",
    "y= 5\n",
    "z= x+y\n",
    "print(z)"
   ]
  },
  {
   "cell_type": "code",
   "execution_count": null,
   "id": "30d54b2d",
   "metadata": {},
   "outputs": [],
   "source": [
    "first name = 'anwar'"
   ]
  },
  {
   "cell_type": "code",
   "execution_count": 7,
   "id": "5a7f2897",
   "metadata": {},
   "outputs": [
    {
     "ename": "SyntaxError",
     "evalue": "invalid syntax. Perhaps you forgot a comma? (3852772612.py, line 1)",
     "output_type": "error",
     "traceback": [
      "\u001b[1;36m  Cell \u001b[1;32mIn[7], line 1\u001b[1;36m\u001b[0m\n\u001b[1;33m    print(first name)\u001b[0m\n\u001b[1;37m          ^\u001b[0m\n\u001b[1;31mSyntaxError\u001b[0m\u001b[1;31m:\u001b[0m invalid syntax. Perhaps you forgot a comma?\n"
     ]
    }
   ],
   "source": [
    "print(first name)"
   ]
  },
  {
   "cell_type": "code",
   "execution_count": 5,
   "id": "f206d557",
   "metadata": {},
   "outputs": [],
   "source": [
    "firstname = \"anwar\""
   ]
  },
  {
   "cell_type": "code",
   "execution_count": 6,
   "id": "5082b1ea",
   "metadata": {},
   "outputs": [
    {
     "name": "stdout",
     "output_type": "stream",
     "text": [
      "anwar\n"
     ]
    }
   ],
   "source": [
    "print (firstname)"
   ]
  },
  {
   "cell_type": "code",
   "execution_count": 25,
   "id": "cc0b2298",
   "metadata": {},
   "outputs": [],
   "source": [
    "first_name = 'mohan'"
   ]
  },
  {
   "cell_type": "code",
   "execution_count": 28,
   "id": "6f892e87",
   "metadata": {},
   "outputs": [
    {
     "name": "stdout",
     "output_type": "stream",
     "text": [
      " mohan \n"
     ]
    }
   ],
   "source": [
    "print(first_name)"
   ]
  },
  {
   "cell_type": "code",
   "execution_count": null,
   "id": "cde18015",
   "metadata": {},
   "outputs": [],
   "source": [
    "Rule no 2 :- A variable name Should not start with a number --IMP"
   ]
  },
  {
   "cell_type": "code",
   "execution_count": null,
   "id": "10618ecd",
   "metadata": {},
   "outputs": [],
   "source": [
    "1name = \"ravi\""
   ]
  },
  {
   "cell_type": "code",
   "execution_count": 29,
   "id": "3bf21a8e",
   "metadata": {},
   "outputs": [
    {
     "ename": "SyntaxError",
     "evalue": "Missing parentheses in call to 'print'. Did you mean print(...)? (261015403.py, line 1)",
     "output_type": "error",
     "traceback": [
      "\u001b[1;36m  Cell \u001b[1;32mIn[29], line 1\u001b[1;36m\u001b[0m\n\u001b[1;33m    print \"1name\"\u001b[0m\n\u001b[1;37m    ^\u001b[0m\n\u001b[1;31mSyntaxError\u001b[0m\u001b[1;31m:\u001b[0m Missing parentheses in call to 'print'. Did you mean print(...)?\n"
     ]
    }
   ],
   "source": [
    "print \"1name\""
   ]
  },
  {
   "cell_type": "code",
   "execution_count": 41,
   "id": "c4299d0f",
   "metadata": {},
   "outputs": [
    {
     "name": "stdout",
     "output_type": "stream",
     "text": [
      "ravi\n"
     ]
    }
   ],
   "source": [
    "name1 = 'ravi'\n",
    "print(name1)"
   ]
  },
  {
   "cell_type": "code",
   "execution_count": null,
   "id": "ecdd4234",
   "metadata": {},
   "outputs": [],
   "source": [
    "Rule no 3: A variable should not contain any special character (@#$%*^)"
   ]
  },
  {
   "cell_type": "code",
   "execution_count": 42,
   "id": "448af81c",
   "metadata": {},
   "outputs": [
    {
     "ename": "SyntaxError",
     "evalue": "invalid syntax (1455548513.py, line 1)",
     "output_type": "error",
     "traceback": [
      "\u001b[1;36m  Cell \u001b[1;32mIn[42], line 1\u001b[1;36m\u001b[0m\n\u001b[1;33m    name@ = 'asif'\u001b[0m\n\u001b[1;37m          ^\u001b[0m\n\u001b[1;31mSyntaxError\u001b[0m\u001b[1;31m:\u001b[0m invalid syntax\n"
     ]
    }
   ],
   "source": [
    "name@ = 'asif'\n",
    "print(name@)"
   ]
  },
  {
   "cell_type": "code",
   "execution_count": null,
   "id": "47d4e83c",
   "metadata": {},
   "outputs": [],
   "source": [
    "Introduction to data types in python"
   ]
  },
  {
   "cell_type": "code",
   "execution_count": null,
   "id": "a0be1e22",
   "metadata": {},
   "outputs": [],
   "source": [
    "1. String --str\n",
    "2. Numbers -Integers (int) and Floats Decimal (0.1,0.2)\n",
    "3. List - (List)\n",
    "4. Tuples - Tuples\n",
    "5. Dictionaries - (Dict)"
   ]
  },
  {
   "cell_type": "code",
   "execution_count": null,
   "id": "4ff03867",
   "metadata": {},
   "outputs": [],
   "source": [
    "classification of data types"
   ]
  },
  {
   "cell_type": "code",
   "execution_count": null,
   "id": "b5c28085",
   "metadata": {},
   "outputs": [],
   "source": [
    "Broadly datatypes are classified in to two categories"
   ]
  },
  {
   "cell_type": "code",
   "execution_count": null,
   "id": "644d6e69",
   "metadata": {},
   "outputs": [],
   "source": [
    "1. Mutable datatype - Which we can able to edit and alter - Flexible in nature\n",
    "2.Immutable data type - which we cannot be able to edit and alter - Fixed in nature"
   ]
  },
  {
   "cell_type": "code",
   "execution_count": null,
   "id": "954ce3b9",
   "metadata": {},
   "outputs": [],
   "source": [
    "Introduction to string data type"
   ]
  },
  {
   "cell_type": "code",
   "execution_count": null,
   "id": "941b01dd",
   "metadata": {},
   "outputs": [],
   "source": [
    "Defination:- A string is series of characters declared in quotes"
   ]
  },
  {
   "cell_type": "code",
   "execution_count": null,
   "id": "a306fd0e",
   "metadata": {},
   "outputs": [],
   "source": [
    "classification it is classified as an immutable data type (fixed data type)"
   ]
  },
  {
   "cell_type": "code",
   "execution_count": null,
   "id": "4f170de0",
   "metadata": {},
   "outputs": [],
   "source": [
    "How to define string data type\n",
    "1. Single Quote ''\n",
    "2. Double Quote \"\""
   ]
  },
  {
   "cell_type": "code",
   "execution_count": 44,
   "id": "b5697793",
   "metadata": {},
   "outputs": [
    {
     "name": "stdout",
     "output_type": "stream",
     "text": [
      "sandeep\n"
     ]
    }
   ],
   "source": [
    "name = 'sandeep'\n",
    "print(name)"
   ]
  },
  {
   "cell_type": "code",
   "execution_count": 45,
   "id": "2538b9b5",
   "metadata": {},
   "outputs": [
    {
     "name": "stdout",
     "output_type": "stream",
     "text": [
      "sachin\n"
     ]
    }
   ],
   "source": [
    "name2 = \"sachin\"\n",
    "print(name2)"
   ]
  },
  {
   "cell_type": "code",
   "execution_count": null,
   "id": "01ec70b3",
   "metadata": {},
   "outputs": [],
   "source": [
    "Introducation to string method"
   ]
  },
  {
   "cell_type": "code",
   "execution_count": 46,
   "id": "e36d9ee1",
   "metadata": {},
   "outputs": [
    {
     "data": {
      "text/plain": [
       "str"
      ]
     },
     "execution_count": 46,
     "metadata": {},
     "output_type": "execute_result"
    }
   ],
   "source": [
    "type (name)"
   ]
  },
  {
   "cell_type": "code",
   "execution_count": 47,
   "id": "93fd7aaf",
   "metadata": {},
   "outputs": [
    {
     "data": {
      "text/plain": [
       "str"
      ]
     },
     "execution_count": 47,
     "metadata": {},
     "output_type": "execute_result"
    }
   ],
   "source": [
    "type (name2)"
   ]
  },
  {
   "cell_type": "code",
   "execution_count": 48,
   "id": "b6357f54",
   "metadata": {},
   "outputs": [
    {
     "name": "stdout",
     "output_type": "stream",
     "text": [
      "fuzail shaikh\n"
     ]
    }
   ],
   "source": [
    "fullname = 'fuzail shaikh'\n",
    "print(fullname)"
   ]
  },
  {
   "cell_type": "code",
   "execution_count": 49,
   "id": "16f9a062",
   "metadata": {},
   "outputs": [
    {
     "name": "stdout",
     "output_type": "stream",
     "text": [
      "Fuzail Shaikh\n"
     ]
    }
   ],
   "source": [
    "print(fullname.title())"
   ]
  },
  {
   "cell_type": "code",
   "execution_count": null,
   "id": "b443ec17",
   "metadata": {},
   "outputs": [],
   "source": [
    "#Req:-want to convert the entire name in capital letters"
   ]
  },
  {
   "cell_type": "code",
   "execution_count": 5,
   "id": "65d54d67",
   "metadata": {},
   "outputs": [
    {
     "name": "stdout",
     "output_type": "stream",
     "text": [
      "FUZAIL SHAIKH\n"
     ]
    }
   ],
   "source": [
    "print(fullname.upper())"
   ]
  },
  {
   "cell_type": "code",
   "execution_count": 6,
   "id": "586782d0",
   "metadata": {},
   "outputs": [
    {
     "name": "stdout",
     "output_type": "stream",
     "text": [
      "fuzail shaikh\n"
     ]
    }
   ],
   "source": [
    "print(fullname.lower())"
   ]
  },
  {
   "cell_type": "code",
   "execution_count": null,
   "id": "04c93630",
   "metadata": {},
   "outputs": [],
   "source": []
  }
 ],
 "metadata": {
  "kernelspec": {
   "display_name": "Python 3 (ipykernel)",
   "language": "python",
   "name": "python3"
  },
  "language_info": {
   "codemirror_mode": {
    "name": "ipython",
    "version": 3
   },
   "file_extension": ".py",
   "mimetype": "text/x-python",
   "name": "python",
   "nbconvert_exporter": "python",
   "pygments_lexer": "ipython3",
   "version": "3.11.5"
  }
 },
 "nbformat": 4,
 "nbformat_minor": 5
}
