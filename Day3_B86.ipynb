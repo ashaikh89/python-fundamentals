{
 "cells": [
  {
   "cell_type": "code",
   "execution_count": null,
   "id": "a9439bc3",
   "metadata": {},
   "outputs": [],
   "source": [
    "Continuation with strings"
   ]
  },
  {
   "cell_type": "code",
   "execution_count": 1,
   "id": "5f0ef40e",
   "metadata": {},
   "outputs": [
    {
     "name": "stdout",
     "output_type": "stream",
     "text": [
      "lucky singh\n"
     ]
    }
   ],
   "source": [
    "fullname = 'lucky singh'\n",
    "print(fullname)"
   ]
  },
  {
   "cell_type": "code",
   "execution_count": 2,
   "id": "0178264c",
   "metadata": {},
   "outputs": [
    {
     "name": "stdout",
     "output_type": "stream",
     "text": [
      "Lucky Singh\n"
     ]
    }
   ],
   "source": [
    "print(fullname.title())"
   ]
  },
  {
   "cell_type": "code",
   "execution_count": null,
   "id": "f00823af",
   "metadata": {},
   "outputs": [],
   "source": [
    "Requirement:- want to convert the entire name in capital letters"
   ]
  },
  {
   "cell_type": "code",
   "execution_count": 3,
   "id": "c508e9ad",
   "metadata": {},
   "outputs": [
    {
     "name": "stdout",
     "output_type": "stream",
     "text": [
      "LUCKY SINGH\n"
     ]
    }
   ],
   "source": [
    "print(fullname.upper())"
   ]
  },
  {
   "cell_type": "code",
   "execution_count": null,
   "id": "bbac3bce",
   "metadata": {},
   "outputs": [],
   "source": [
    "Requirement :- I want to connect the entire name in to small case letters"
   ]
  },
  {
   "cell_type": "code",
   "execution_count": 4,
   "id": "6c082869",
   "metadata": {},
   "outputs": [
    {
     "name": "stdout",
     "output_type": "stream",
     "text": [
      "lucky singh\n"
     ]
    }
   ],
   "source": [
    "print(fullname.lower())"
   ]
  },
  {
   "cell_type": "code",
   "execution_count": null,
   "id": "b6af648f",
   "metadata": {},
   "outputs": [],
   "source": [
    "Introduction of f stings**(IMP)"
   ]
  },
  {
   "cell_type": "code",
   "execution_count": null,
   "id": "5e0b036d",
   "metadata": {},
   "outputs": [],
   "source": [
    "General syntax of f strings\n",
    "f \"custom message {placeholder1}{placeholder2}..........{placeholdern}\""
   ]
  },
  {
   "cell_type": "code",
   "execution_count": 9,
   "id": "b829c442",
   "metadata": {},
   "outputs": [],
   "source": [
    "firstname = 'leena'\n",
    "lastname = 'patil'"
   ]
  },
  {
   "cell_type": "code",
   "execution_count": 12,
   "id": "777c095b",
   "metadata": {},
   "outputs": [
    {
     "name": "stdout",
     "output_type": "stream",
     "text": [
      "leena patil\n"
     ]
    }
   ],
   "source": [
    "fullname = f\"{firstname} {lastname}\"\n",
    "\n",
    "print(fullname)"
   ]
  },
  {
   "cell_type": "code",
   "execution_count": 13,
   "id": "9d06c3be",
   "metadata": {},
   "outputs": [
    {
     "name": "stdout",
     "output_type": "stream",
     "text": [
      "LEENA PATIL\n"
     ]
    }
   ],
   "source": [
    "print(fullname.upper())"
   ]
  },
  {
   "cell_type": "code",
   "execution_count": 14,
   "id": "5196e8c8",
   "metadata": {},
   "outputs": [
    {
     "name": "stdout",
     "output_type": "stream",
     "text": [
      "Leena Patil\n"
     ]
    }
   ],
   "source": [
    "print(fullname.title())"
   ]
  },
  {
   "cell_type": "code",
   "execution_count": 17,
   "id": "08e2550f",
   "metadata": {},
   "outputs": [
    {
     "name": "stdout",
     "output_type": "stream",
     "text": [
      "keep up the good work, Leena Patil\n"
     ]
    }
   ],
   "source": [
    "message = f\"keep up the good work, {fullname.title()}\"\n",
    "\n",
    "print(message)"
   ]
  },
  {
   "cell_type": "code",
   "execution_count": null,
   "id": "1b18c677",
   "metadata": {},
   "outputs": [],
   "source": [
    "Adding white spaces to strings"
   ]
  },
  {
   "cell_type": "code",
   "execution_count": 18,
   "id": "5196de0b",
   "metadata": {},
   "outputs": [
    {
     "name": "stdout",
     "output_type": "stream",
     "text": [
      "fav_language:pythonjavac++swiftscala\n"
     ]
    }
   ],
   "source": [
    "print(\"fav_language:pythonjavac++swiftscala\")"
   ]
  },
  {
   "cell_type": "code",
   "execution_count": 19,
   "id": "da028848",
   "metadata": {},
   "outputs": [
    {
     "name": "stdout",
     "output_type": "stream",
     "text": [
      "fav_language:\n",
      "python\n",
      "java\n",
      "c++\n",
      "swift\n",
      "scala\n"
     ]
    }
   ],
   "source": [
    "print('fav_language:\\npython\\njava\\nc++\\nswift\\nscala')"
   ]
  },
  {
   "cell_type": "code",
   "execution_count": 20,
   "id": "e40f2b1c",
   "metadata": {},
   "outputs": [
    {
     "name": "stdout",
     "output_type": "stream",
     "text": [
      "favlanguage:\n",
      "\tpython\n",
      "\tjava\n",
      "\tjava\n",
      "\tc++\n",
      "\tswift\n",
      "\tscala\n"
     ]
    }
   ],
   "source": [
    "print('favlanguage:\\n\\tpython\\n\\tjava\\n\\tjava\\n\\tc++\\n\\tswift\\n\\tscala')"
   ]
  },
  {
   "cell_type": "code",
   "execution_count": null,
   "id": "4ce0d191",
   "metadata": {},
   "outputs": [],
   "source": [
    "Removing whitespaces from strings"
   ]
  },
  {
   "cell_type": "code",
   "execution_count": 22,
   "id": "3f7d0c27",
   "metadata": {},
   "outputs": [
    {
     "name": "stdout",
     "output_type": "stream",
     "text": [
      "python\n"
     ]
    }
   ],
   "source": [
    "name ='python'\n",
    "print(name)"
   ]
  },
  {
   "cell_type": "code",
   "execution_count": 23,
   "id": "8dcc99d4",
   "metadata": {},
   "outputs": [
    {
     "name": "stdout",
     "output_type": "stream",
     "text": [
      "python    \n"
     ]
    }
   ],
   "source": [
    "name2 ='python    '\n",
    "print(name2)"
   ]
  },
  {
   "cell_type": "code",
   "execution_count": 24,
   "id": "f11e1935",
   "metadata": {},
   "outputs": [
    {
     "name": "stdout",
     "output_type": "stream",
     "text": [
      "      python\n"
     ]
    }
   ],
   "source": [
    "name3 ='      python'\n",
    "print(name3)"
   ]
  },
  {
   "cell_type": "code",
   "execution_count": 25,
   "id": "5155daaf",
   "metadata": {},
   "outputs": [
    {
     "data": {
      "text/plain": [
       "'python'"
      ]
     },
     "execution_count": 25,
     "metadata": {},
     "output_type": "execute_result"
    }
   ],
   "source": [
    "name2.rstrip()"
   ]
  },
  {
   "cell_type": "code",
   "execution_count": 27,
   "id": "e5ce26f7",
   "metadata": {},
   "outputs": [
    {
     "data": {
      "text/plain": [
       "'python'"
      ]
     },
     "execution_count": 27,
     "metadata": {},
     "output_type": "execute_result"
    }
   ],
   "source": [
    "name3.lstrip()"
   ]
  },
  {
   "cell_type": "code",
   "execution_count": 1,
   "id": "31624c56",
   "metadata": {},
   "outputs": [
    {
     "name": "stdout",
     "output_type": "stream",
     "text": [
      "    python              \n"
     ]
    }
   ],
   "source": [
    "name4 = \"    python              \"\n",
    "\n",
    "print(name4)"
   ]
  },
  {
   "cell_type": "code",
   "execution_count": 2,
   "id": "1db302ac",
   "metadata": {},
   "outputs": [
    {
     "data": {
      "text/plain": [
       "'python'"
      ]
     },
     "execution_count": 2,
     "metadata": {},
     "output_type": "execute_result"
    }
   ],
   "source": [
    "name4.strip()"
   ]
  },
  {
   "cell_type": "code",
   "execution_count": null,
   "id": "e097430c",
   "metadata": {},
   "outputs": [],
   "source": []
  }
 ],
 "metadata": {
  "kernelspec": {
   "display_name": "Python 3 (ipykernel)",
   "language": "python",
   "name": "python3"
  },
  "language_info": {
   "codemirror_mode": {
    "name": "ipython",
    "version": 3
   },
   "file_extension": ".py",
   "mimetype": "text/x-python",
   "name": "python",
   "nbconvert_exporter": "python",
   "pygments_lexer": "ipython3",
   "version": "3.11.5"
  }
 },
 "nbformat": 4,
 "nbformat_minor": 5
}
